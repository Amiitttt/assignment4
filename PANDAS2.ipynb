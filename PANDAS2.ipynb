{
 "cells": [
  {
   "cell_type": "code",
   "execution_count": null,
   "id": "839ed0ae-dc82-4b6e-94a6-e6062c819f55",
   "metadata": {},
   "outputs": [],
   "source": [
    "'''Q1. List any five functions of the pandas library with execution.\n",
    "pd.read_csv()\n",
    "df.info()\n",
    "df.groupby()\n",
    "df.describe()\n",
    "df.dropna()  '''"
   ]
  },
  {
   "cell_type": "code",
   "execution_count": 3,
   "id": "c5b5dd84-d983-41c1-b9ab-c73bd02b6294",
   "metadata": {},
   "outputs": [
    {
     "name": "stdout",
     "output_type": "stream",
     "text": [
      "     A    B    C\n",
      "1  2.0  5.0  8.0\n",
      "3  NaN  NaN  NaN\n",
      "5  NaN  NaN  NaN\n"
     ]
    }
   ],
   "source": [
    "'''Q2. Given a Pandas DataFrame df with columns 'A', 'B', and 'C', write a Python function to re-index the\n",
    "DataFrame with a new index that starts from 1 and increments by 2 for each row.'''\n",
    "\n",
    "import pandas as pd\n",
    "\n",
    "def reindex_df(df):\n",
    "    # get the number of rows in the DataFrame\n",
    "    num_rows = df.shape[0]\n",
    "\n",
    "    # create a new index that starts from 1 and increments by 2 for each row\n",
    "    new_index = pd.Index(range(1, num_rows * 2, 2))\n",
    "\n",
    "    # re-index the DataFrame with the new index\n",
    "    df = df.reindex(new_index)\n",
    "\n",
    "    # return the re-indexed DataFrame\n",
    "    return df\n",
    "\n",
    "\n",
    "\n",
    "# create a sample DataFrame\n",
    "df = pd.DataFrame({'A': [1, 2, 3], 'B': [4, 5, 6], 'C': [7, 8, 9]})\n",
    "\n",
    "\n",
    "# re-index the DataFrame with a new index that starts from 1 and increments by 2 for each row\n",
    "df_new = reindex_df(df)\n",
    "\n",
    "# print the re-indexed DataFrame\n",
    "print(df_new)"
   ]
  },
  {
   "cell_type": "code",
   "execution_count": 4,
   "id": "d4de479a-00b1-4657-bd43-9d35e0007196",
   "metadata": {},
   "outputs": [
    {
     "name": "stdout",
     "output_type": "stream",
     "text": [
      "Sum of first three values in 'Values' column: 60\n"
     ]
    }
   ],
   "source": [
    "'''Q3. You have a Pandas DataFrame df with a column named 'Values'. Write a Python function that\n",
    "iterates over the DataFrame and calculates the sum of the first three values in the 'Values' column. The\n",
    "function should print the sum to the console.\n",
    "For example, if the 'Values' column of df contains the values [10, 20, 30, 40, 50], your function should\n",
    "calculate and print the sum of the first three values, which is 60.'''\n",
    "\n",
    "\n",
    "def sum_first_three_values(df):\n",
    "    # get the first three values in the 'Values' column\n",
    "    first_three_values = df['Values'][:3]\n",
    "\n",
    "    # calculate the sum of the first three values\n",
    "    sum_first_three = sum(first_three_values)\n",
    "\n",
    "    # print the sum to the console\n",
    "    print(\"Sum of first three values in 'Values' column:\", sum_first_three)\n",
    "\n",
    "\n",
    "import pandas as pd\n",
    "\n",
    "# create a sample DataFrame\n",
    "df = pd.DataFrame({'Values': [10, 20, 30, 40, 50]})\n",
    "\n",
    "# call the function to calculate and print the sum of the first three values in the 'Values' column\n",
    "sum_first_three_values(df)\n",
    "\n",
    "\n",
    "\n"
   ]
  },
  {
   "cell_type": "code",
   "execution_count": 5,
   "id": "a089a79d-c28e-4ddc-9932-e67510a1bf3d",
   "metadata": {},
   "outputs": [
    {
     "name": "stdout",
     "output_type": "stream",
     "text": [
      "                                        Text  Word_Count\n",
      "0                        This is a sentence.           4\n",
      "1  This is another sentence with more words.           7\n"
     ]
    }
   ],
   "source": [
    "'''Q4. Given a Pandas DataFrame df with a column 'Text', write a Python function to create a new column\n",
    "'Word_Count' that contains the number of words in each row of the 'Text' column.'''\n",
    "\n",
    "def add_word_count_column(df):\n",
    "    # create a new column 'Word_Count' that contains the number of words in each row of the 'Text' column\n",
    "    df['Word_Count'] = df['Text'].apply(lambda x: len(str(x).split()))\n",
    "\n",
    "    # return the modified DataFrame\n",
    "    return df\n",
    "\n",
    "import pandas as pd\n",
    "\n",
    "# create a sample DataFrame\n",
    "df = pd.DataFrame({'Text': ['This is a sentence.', 'This is another sentence with more words.']})\n",
    "\n",
    "# call the function to add a 'Word_Count' column to the DataFrame\n",
    "df = add_word_count_column(df)\n",
    "\n",
    "# print the modified DataFrame\n",
    "print(df)\n"
   ]
  },
  {
   "cell_type": "code",
   "execution_count": null,
   "id": "cb2d3abc-a0f7-4f50-8984-beea0242669f",
   "metadata": {},
   "outputs": [],
   "source": [
    "'''Q5. How are DataFrame.size() and DataFrame.shape() different?'''\n",
    "\n",
    "\n",
    "'''DataFrame.size() and DataFrame.shape() are both methods of the Pandas DataFrame \n",
    "class, but they return different information about the DataFrame.\n",
    "\n",
    "DataFrame.size() returns the number of elements in the DataFrame, which is equivalent\n",
    "to the number of rows multiplied by the number of columns. In other words, it returns \n",
    "the total number of cells in the DataFrame.\n",
    "\n",
    "DataFrame.shape() returns a tuple representing the dimensions of the DataFrame, in the\n",
    "form (number of rows, number of columns). For example, if a DataFrame has 5 rows and 3 columns, \n",
    "DataFrame.shape() would return (5, 3).'''\n",
    "\n",
    "\n"
   ]
  },
  {
   "cell_type": "code",
   "execution_count": null,
   "id": "c62de75d-5122-4684-bd63-3b0e521cadef",
   "metadata": {},
   "outputs": [],
   "source": [
    "'''Q6. Which function of pandas do we use to read an excel file?'''\n",
    "'''To read an Excel file in Pandas, we use the read_excel() function, \n",
    "which is part of the Pandas library.'''"
   ]
  },
  {
   "cell_type": "code",
   "execution_count": 6,
   "id": "796ad8b2-4c58-4ec4-a02d-c1d1fad23cdc",
   "metadata": {},
   "outputs": [
    {
     "name": "stdout",
     "output_type": "stream",
     "text": [
      "                   Email\n",
      "0   john.doe@example.com\n",
      "1   jane.doe@example.com\n",
      "2  bob.smith@example.com\n",
      "                   Email   Username\n",
      "0   john.doe@example.com   john.doe\n",
      "1   jane.doe@example.com   jane.doe\n",
      "2  bob.smith@example.com  bob.smith\n"
     ]
    }
   ],
   "source": [
    "'''Q7. You have a Pandas DataFrame df that contains a column named 'Email' that contains email\n",
    "addresses in the format 'username@domain.com'. Write a Python function that creates a new column\n",
    "'Username' in df that contains only the username part of each email address.\n",
    "The username is the part of the email address that appears before the '@' symbol. For example, if the\n",
    "email address is 'john.doe@example.com', the 'Username' column should contain 'john.doe'. Your\n",
    "function should extract the username from each email address and store it in the new 'Username'\n",
    "column.'''\n",
    "\n",
    "import pandas as pd\n",
    "\n",
    "def extract_username(df):\n",
    "    # split the 'Email' column into two parts at the '@' symbol\n",
    "    split_emails = df['Email'].str.split('@')\n",
    "    \n",
    "    # extract the first part of each split email (the username) and store it in a new 'Username' column\n",
    "    df['Username'] = split_emails.str[0]\n",
    "    \n",
    "    # return the modified DataFrame\n",
    "    return df\n",
    "# create a sample DataFrame with email addresses\n",
    "df = pd.DataFrame({'Email': ['john.doe@example.com', 'jane.doe@example.com', 'bob.smith@example.com']})\n",
    "\n",
    "# display the original DataFrame\n",
    "print(df)\n",
    "\n",
    "# apply the extract_username function to the DataFrame\n",
    "df = extract_username(df)\n",
    "\n",
    "# display the modified DataFrame\n",
    "print(df)\n",
    "\n",
    "\n"
   ]
  },
  {
   "cell_type": "code",
   "execution_count": 7,
   "id": "b1890c24-78dd-4acb-91a7-9269f0d4a8e5",
   "metadata": {},
   "outputs": [
    {
     "name": "stdout",
     "output_type": "stream",
     "text": [
      "   A  B  C\n",
      "1  8  2  7\n",
      "2  6  9  4\n",
      "4  9  1  2\n"
     ]
    }
   ],
   "source": [
    "'''Q8. You have a Pandas DataFrame df with columns 'A', 'B', and 'C'. Write a Python function that selects\n",
    "all rows where the value in column 'A' is greater than 5 and the value in column 'B' is less than 10. The\n",
    "function should return a new DataFrame that contains only the selected rows.\n",
    "For example, if df contains the following values:\n",
    "A B C\n",
    "0 3 5 1\n",
    "1 8 2 7\n",
    "2 6 9 4\n",
    "3 2 3 5\n",
    "4 9 1 2\n",
    "\n",
    "Assignment\n",
    "\n",
    "Data Science Masters\n",
    "\n",
    "Your function should select the following rows: A B C\n",
    "1 8 2 7\n",
    "4 9 1 2'''\n",
    "\n",
    "def select_rows(df):\n",
    "    selected_rows = df[(df['A'] > 5) & (df['B'] < 10)]\n",
    "    return selected_rows\n",
    "\n",
    "\n",
    "import pandas as pd\n",
    "\n",
    "# Create a sample DataFrame\n",
    "df = pd.DataFrame({\n",
    "    'A': [3, 8, 6, 2, 9],\n",
    "    'B': [5, 2, 9, 3, 1],\n",
    "    'C': [1, 7, 4, 5, 2]\n",
    "})\n",
    "\n",
    "# Call the select_rows() function with the sample DataFrame\n",
    "selected_df = select_rows(df)\n",
    "\n",
    "# Print the selected rows\n",
    "print(selected_df)\n",
    "\n",
    "\n"
   ]
  },
  {
   "cell_type": "code",
   "execution_count": 8,
   "id": "be6b7fc9-c02b-41c9-a858-cfec2f43c04b",
   "metadata": {},
   "outputs": [
    {
     "name": "stdout",
     "output_type": "stream",
     "text": [
      "{'mean': 3.0, 'median': 3.0, 'std_dev': 1.5811388300841898}\n"
     ]
    }
   ],
   "source": [
    "'''Q9. Given a Pandas DataFrame df with a column 'Values', write a Python function to calculate the mean,\n",
    "median, and standard deviation of the values in the 'Values' column.'''\n",
    "\n",
    "\n",
    "import pandas as pd\n",
    "\n",
    "def calculate_stats(df):\n",
    "    values = df['Values']\n",
    "    mean = values.mean()\n",
    "    median = values.median()\n",
    "    std_dev = values.std()\n",
    "    \n",
    "    return {'mean': mean, 'median': median, 'std_dev': std_dev}\n",
    "\n",
    "\n",
    "\n",
    "\n",
    "df = pd.DataFrame({'Values': [1, 2, 3, 4, 5]})\n",
    "stats = calculate_stats(df)\n",
    "print(stats)\n",
    "\n",
    "\n"
   ]
  },
  {
   "cell_type": "code",
   "execution_count": null,
   "id": "8c463012-8191-4898-8845-f5363b6872c3",
   "metadata": {},
   "outputs": [],
   "source": [
    "'''Q13. To use the basic functions of pandas, what is the first and foremost necessary library that needs to\n",
    "be imported?'''\n",
    "\n",
    "#import pandas"
   ]
  }
 ],
 "metadata": {
  "kernelspec": {
   "display_name": "Python 3 (ipykernel)",
   "language": "python",
   "name": "python3"
  },
  "language_info": {
   "codemirror_mode": {
    "name": "ipython",
    "version": 3
   },
   "file_extension": ".py",
   "mimetype": "text/x-python",
   "name": "python",
   "nbconvert_exporter": "python",
   "pygments_lexer": "ipython3",
   "version": "3.10.8"
  }
 },
 "nbformat": 4,
 "nbformat_minor": 5
}
